{
 "metadata": {
  "name": "",
  "signature": "sha256:1555e35655efa3bbf35254d764574f0a068b2a91c0913f8e29cb4810defcd5b6"
 },
 "nbformat": 3,
 "nbformat_minor": 0,
 "worksheets": [
  {
   "cells": [
    {
     "cell_type": "code",
     "collapsed": false,
     "input": [
      "import treepredict"
     ],
     "language": "python",
     "metadata": {},
     "outputs": [],
     "prompt_number": 1
    },
    {
     "cell_type": "code",
     "collapsed": false,
     "input": [
      "treepredict.divide_set(treepredict.my_data, 2, 'yes')"
     ],
     "language": "python",
     "metadata": {},
     "outputs": [
      {
       "metadata": {},
       "output_type": "pyout",
       "prompt_number": 30,
       "text": [
        "([['slashdot', 'USA', 'yes', 18, 'None'],\n",
        "  ['google', 'France', 'yes', 23, 'Premium'],\n",
        "  ['digg', 'USA', 'yes', 24, 'Basic'],\n",
        "  ['kiwitobes', 'France', 'yes', 23, 'Basic'],\n",
        "  ['slashdot', 'France', 'yes', 19, 'None'],\n",
        "  ['digg', 'New Zealand', 'yes', 12, 'Basic'],\n",
        "  ['google', 'UK', 'yes', 18, 'Basic'],\n",
        "  ['kiwitobes', 'France', 'yes', 19, 'Basic']],\n",
        " [['google', 'UK', 'no', 21, 'Premium'],\n",
        "  ['(direct)', 'New Zealand', 'no', 12, 'None'],\n",
        "  ['(direct)', 'UK', 'no', 21, 'Basic'],\n",
        "  ['google', 'USA', 'no', 24, 'Premium'],\n",
        "  ['digg', 'USA', 'no', 18, 'None'],\n",
        "  ['google', 'UK', 'no', 18, 'None'],\n",
        "  ['kiwitobes', 'UK', 'no', 19, 'None'],\n",
        "  ['slashdot', 'UK', 'no', 21, 'None']])"
       ]
      }
     ],
     "prompt_number": 30
    },
    {
     "cell_type": "markdown",
     "metadata": {},
     "source": [
      "---"
     ]
    },
    {
     "cell_type": "code",
     "collapsed": false,
     "input": [
      "reload(treepredict)"
     ],
     "language": "python",
     "metadata": {},
     "outputs": [
      {
       "metadata": {},
       "output_type": "pyout",
       "prompt_number": 15,
       "text": [
        "<module 'treepredict' from 'treepredict.py'>"
       ]
      }
     ],
     "prompt_number": 15
    },
    {
     "cell_type": "code",
     "collapsed": false,
     "input": [
      "treepredict.gini_impurity(treepredict.my_data)"
     ],
     "language": "python",
     "metadata": {},
     "outputs": [
      {
       "metadata": {},
       "output_type": "pyout",
       "prompt_number": 31,
       "text": [
        "0.6328125"
       ]
      }
     ],
     "prompt_number": 31
    },
    {
     "cell_type": "code",
     "collapsed": false,
     "input": [
      "treepredict.entropy(treepredict.my_data)"
     ],
     "language": "python",
     "metadata": {},
     "outputs": [
      {
       "metadata": {},
       "output_type": "pyout",
       "prompt_number": 32,
       "text": [
        "1.5052408149441479"
       ]
      }
     ],
     "prompt_number": 32
    },
    {
     "cell_type": "code",
     "collapsed": false,
     "input": [
      "set1, set2 = treepredict.divide_set(treepredict.my_data, 2, 'yes')"
     ],
     "language": "python",
     "metadata": {},
     "outputs": [],
     "prompt_number": 33
    },
    {
     "cell_type": "code",
     "collapsed": false,
     "input": [
      "treepredict.entropy(set1)"
     ],
     "language": "python",
     "metadata": {},
     "outputs": [
      {
       "metadata": {},
       "output_type": "pyout",
       "prompt_number": 34,
       "text": [
        "1.2987949406953985"
       ]
      }
     ],
     "prompt_number": 34
    },
    {
     "cell_type": "code",
     "collapsed": false,
     "input": [
      "treepredict.gini_impurity(set1)"
     ],
     "language": "python",
     "metadata": {},
     "outputs": [
      {
       "metadata": {},
       "output_type": "pyout",
       "prompt_number": 35,
       "text": [
        "0.53125"
       ]
      }
     ],
     "prompt_number": 35
    },
    {
     "cell_type": "markdown",
     "metadata": {},
     "source": [
      "---"
     ]
    },
    {
     "cell_type": "code",
     "collapsed": false,
     "input": [
      "reload(treepredict)"
     ],
     "language": "python",
     "metadata": {},
     "outputs": [
      {
       "metadata": {},
       "output_type": "pyout",
       "prompt_number": 43,
       "text": [
        "<module 'treepredict' from 'treepredict.py'>"
       ]
      }
     ],
     "prompt_number": 43
    },
    {
     "cell_type": "code",
     "collapsed": false,
     "input": [
      "tree = treepredict.build_tree(treepredict.my_data)"
     ],
     "language": "python",
     "metadata": {},
     "outputs": [],
     "prompt_number": 62
    },
    {
     "cell_type": "code",
     "collapsed": false,
     "input": [
      "treepredict.print_tree(tree)"
     ],
     "language": "python",
     "metadata": {},
     "outputs": [
      {
       "output_type": "stream",
       "stream": "stdout",
       "text": [
        "0: google? \n",
        "    T -> 3: 21? \n",
        "        T -> {'Premium': 3}\n",
        "        F -> 2: yes? \n",
        "            T -> {'Basic': 1}\n",
        "            F -> {'None': 1}\n",
        "    F -> 0: slashdot? \n",
        "        T -> {'None': 3}\n",
        "        F -> 2: yes? \n",
        "            T -> {'Basic': 4}\n",
        "            F -> 3: 21? \n",
        "                T -> {'Basic': 1}\n",
        "                F -> {'None': 3}\n"
       ]
      }
     ],
     "prompt_number": 45
    },
    {
     "cell_type": "markdown",
     "metadata": {},
     "source": [
      "---"
     ]
    },
    {
     "cell_type": "code",
     "collapsed": false,
     "input": [
      "reload(treepredict)"
     ],
     "language": "python",
     "metadata": {},
     "outputs": [
      {
       "metadata": {},
       "output_type": "pyout",
       "prompt_number": 50,
       "text": [
        "<module 'treepredict' from 'treepredict.py'>"
       ]
      }
     ],
     "prompt_number": 50
    },
    {
     "cell_type": "code",
     "collapsed": false,
     "input": [
      "treepredict.draw_tree(tree, jpeg='treeview.png')"
     ],
     "language": "python",
     "metadata": {},
     "outputs": [],
     "prompt_number": 51
    },
    {
     "cell_type": "markdown",
     "metadata": {},
     "source": [
      "---"
     ]
    },
    {
     "cell_type": "code",
     "collapsed": false,
     "input": [
      "reload(treepredict)"
     ],
     "language": "python",
     "metadata": {},
     "outputs": [
      {
       "metadata": {},
       "output_type": "pyout",
       "prompt_number": 52,
       "text": [
        "<module 'treepredict' from 'treepredict.py'>"
       ]
      }
     ],
     "prompt_number": 52
    },
    {
     "cell_type": "code",
     "collapsed": false,
     "input": [
      "treepredict.classify(['(direct)', 'USA', 'yes', 5], tree)"
     ],
     "language": "python",
     "metadata": {},
     "outputs": [
      {
       "metadata": {},
       "output_type": "pyout",
       "prompt_number": 53,
       "text": [
        "{'Basic': 4}"
       ]
      }
     ],
     "prompt_number": 53
    },
    {
     "cell_type": "markdown",
     "metadata": {},
     "source": [
      "---"
     ]
    },
    {
     "cell_type": "code",
     "collapsed": false,
     "input": [
      "reload(treepredict)"
     ],
     "language": "python",
     "metadata": {},
     "outputs": [
      {
       "metadata": {},
       "output_type": "pyout",
       "prompt_number": 54,
       "text": [
        "<module 'treepredict' from 'treepredict.py'>"
       ]
      }
     ],
     "prompt_number": 54
    },
    {
     "cell_type": "code",
     "collapsed": false,
     "input": [
      "treepredict.prune(tree, 0.1)"
     ],
     "language": "python",
     "metadata": {},
     "outputs": [],
     "prompt_number": 55
    },
    {
     "cell_type": "code",
     "collapsed": false,
     "input": [
      "treepredict.print_tree(tree)"
     ],
     "language": "python",
     "metadata": {},
     "outputs": [
      {
       "output_type": "stream",
       "stream": "stdout",
       "text": [
        "0: google? \n",
        "    T -> 3: 21? \n",
        "        T -> {'Premium': 3}\n",
        "        F -> 2: yes? \n",
        "            T -> {'Basic': 1}\n",
        "            F -> {'None': 1}\n",
        "    F -> 0: slashdot? \n",
        "        T -> {'None': 3}\n",
        "        F -> 2: yes? \n",
        "            T -> {'Basic': 4}\n",
        "            F -> 3: 21? \n",
        "                T -> {'Basic': 1}\n",
        "                F -> {'None': 3}\n"
       ]
      }
     ],
     "prompt_number": 56
    },
    {
     "cell_type": "code",
     "collapsed": false,
     "input": [
      "treepredict.prune(tree, 1.)"
     ],
     "language": "python",
     "metadata": {},
     "outputs": [],
     "prompt_number": 57
    },
    {
     "cell_type": "code",
     "collapsed": false,
     "input": [
      "treepredict.print_tree(tree)"
     ],
     "language": "python",
     "metadata": {},
     "outputs": [
      {
       "output_type": "stream",
       "stream": "stdout",
       "text": [
        "0: google? \n",
        "    T -> 3: 21? \n",
        "        T -> {'Premium': 3}\n",
        "        F -> 2: yes? \n",
        "            T -> {'Basic': 1}\n",
        "            F -> {'None': 1}\n",
        "    F -> {'None': 6, 'Basic': 5}\n"
       ]
      }
     ],
     "prompt_number": 58
    },
    {
     "cell_type": "markdown",
     "metadata": {},
     "source": [
      "---"
     ]
    },
    {
     "cell_type": "code",
     "collapsed": false,
     "input": [
      "reload(treepredict)"
     ],
     "language": "python",
     "metadata": {},
     "outputs": [
      {
       "metadata": {},
       "output_type": "pyout",
       "prompt_number": 59,
       "text": [
        "<module 'treepredict' from 'treepredict.py'>"
       ]
      }
     ],
     "prompt_number": 59
    },
    {
     "cell_type": "code",
     "collapsed": false,
     "input": [
      "tree = treepredict.build_tree(treepredict.my_data)"
     ],
     "language": "python",
     "metadata": {},
     "outputs": [],
     "prompt_number": 66
    },
    {
     "cell_type": "code",
     "collapsed": false,
     "input": [
      "treepredict.mdclassify(['google', None, 'yes', None], tree)"
     ],
     "language": "python",
     "metadata": {},
     "outputs": [
      {
       "metadata": {},
       "output_type": "pyout",
       "prompt_number": 67,
       "text": [
        "{'Basic': 0.25, 'Premium': 2.25}"
       ]
      }
     ],
     "prompt_number": 67
    },
    {
     "cell_type": "code",
     "collapsed": false,
     "input": [
      "treepredict.mdclassify(['google', 'France', None, None], tree)"
     ],
     "language": "python",
     "metadata": {},
     "outputs": [
      {
       "metadata": {},
       "output_type": "pyout",
       "prompt_number": 68,
       "text": [
        "{'Basic': 0.125, 'None': 0.125, 'Premium': 2.25}"
       ]
      }
     ],
     "prompt_number": 68
    },
    {
     "cell_type": "code",
     "collapsed": false,
     "input": [],
     "language": "python",
     "metadata": {},
     "outputs": []
    }
   ],
   "metadata": {}
  }
 ]
}