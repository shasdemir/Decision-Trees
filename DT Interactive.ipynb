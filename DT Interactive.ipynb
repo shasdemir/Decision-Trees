{
 "metadata": {
  "name": "",
  "signature": "sha256:ea01b35be121101f71c11a2c52aa9bc3221f86c5c136c5ab7d3d9711f7113707"
 },
 "nbformat": 3,
 "nbformat_minor": 0,
 "worksheets": [
  {
   "cells": [
    {
     "cell_type": "code",
     "collapsed": false,
     "input": [
      "import treepredict"
     ],
     "language": "python",
     "metadata": {},
     "outputs": [],
     "prompt_number": 1
    },
    {
     "cell_type": "code",
     "collapsed": false,
     "input": [
      "treepredict.divide_set(treepredict.my_data, 2, 'yes')"
     ],
     "language": "python",
     "metadata": {},
     "outputs": [
      {
       "metadata": {},
       "output_type": "pyout",
       "prompt_number": 2,
       "text": [
        "([['slashdot', 'USA', 'yes', 18, 'None'],\n",
        "  ['google', 'France', 'yes', 23, 'Premium'],\n",
        "  ['digg', 'USA', 'yes', 24, 'Basic'],\n",
        "  ['kiwitobes', 'France', 'yes', 23, 'Basic'],\n",
        "  ['slashdot', 'France', 'yes', 19, 'None'],\n",
        "  ['digg', 'New Zealand', 'yes', 12, 'Basic'],\n",
        "  ['google', 'UK', 'yes', 18, 'Basic'],\n",
        "  ['kiwitobes', 'France', 'yes', 19, 'Basic']],\n",
        " [['google', 'UK', 'no', 21, 'Premium'],\n",
        "  ['(direct)', 'New Zealand', 'no', 12, 'None'],\n",
        "  ['(direct)', 'UK', 'no', 21, 'Basic'],\n",
        "  ['google', 'USA', 'no', 24, 'Premium'],\n",
        "  ['digg', 'USA', 'no', 18, 'None'],\n",
        "  ['google', 'UK', 'no', 18, 'None'],\n",
        "  ['kiwitobes', 'UK', 'no', 19, 'None'],\n",
        "  ['slashdot', 'UK', 'no', 21, 'None']])"
       ]
      }
     ],
     "prompt_number": 2
    },
    {
     "cell_type": "markdown",
     "metadata": {},
     "source": [
      "---"
     ]
    },
    {
     "cell_type": "code",
     "collapsed": false,
     "input": [
      "reload(treepredict)"
     ],
     "language": "python",
     "metadata": {},
     "outputs": [
      {
       "metadata": {},
       "output_type": "pyout",
       "prompt_number": 15,
       "text": [
        "<module 'treepredict' from 'treepredict.py'>"
       ]
      }
     ],
     "prompt_number": 15
    },
    {
     "cell_type": "code",
     "collapsed": false,
     "input": [
      "treepredict.gini_impurity(treepredict.my_data)"
     ],
     "language": "python",
     "metadata": {},
     "outputs": [
      {
       "metadata": {},
       "output_type": "pyout",
       "prompt_number": 16,
       "text": [
        "0.6328125"
       ]
      }
     ],
     "prompt_number": 16
    },
    {
     "cell_type": "code",
     "collapsed": false,
     "input": [
      "treepredict.entropy(treepredict.my_data)"
     ],
     "language": "python",
     "metadata": {},
     "outputs": [
      {
       "metadata": {},
       "output_type": "pyout",
       "prompt_number": 17,
       "text": [
        "1.5052408149441479"
       ]
      }
     ],
     "prompt_number": 17
    },
    {
     "cell_type": "code",
     "collapsed": false,
     "input": [
      "set1, set2 = treepredict.divide_set(treepredict.my_data, 2, 'yes')"
     ],
     "language": "python",
     "metadata": {},
     "outputs": [],
     "prompt_number": 18
    },
    {
     "cell_type": "code",
     "collapsed": false,
     "input": [
      "treepredict.entropy(set1)"
     ],
     "language": "python",
     "metadata": {},
     "outputs": [
      {
       "metadata": {},
       "output_type": "pyout",
       "prompt_number": 19,
       "text": [
        "1.2987949406953985"
       ]
      }
     ],
     "prompt_number": 19
    },
    {
     "cell_type": "code",
     "collapsed": false,
     "input": [
      "treepredict.gini_impurity(set1)"
     ],
     "language": "python",
     "metadata": {},
     "outputs": [
      {
       "metadata": {},
       "output_type": "pyout",
       "prompt_number": 20,
       "text": [
        "0.53125"
       ]
      }
     ],
     "prompt_number": 20
    },
    {
     "cell_type": "markdown",
     "metadata": {},
     "source": [
      "---"
     ]
    },
    {
     "cell_type": "code",
     "collapsed": false,
     "input": [
      "reload(treepredict)"
     ],
     "language": "python",
     "metadata": {},
     "outputs": [
      {
       "metadata": {},
       "output_type": "pyout",
       "prompt_number": 26,
       "text": [
        "<module 'treepredict' from 'treepredict.py'>"
       ]
      }
     ],
     "prompt_number": 26
    },
    {
     "cell_type": "code",
     "collapsed": false,
     "input": [
      "tree = treepredict.build_tree(treepredict.my_data)"
     ],
     "language": "python",
     "metadata": {},
     "outputs": [],
     "prompt_number": 27
    },
    {
     "cell_type": "code",
     "collapsed": false,
     "input": [
      "treepredict.print_tree(tree)"
     ],
     "language": "python",
     "metadata": {},
     "outputs": [
      {
       "output_type": "stream",
       "stream": "stdout",
       "text": [
        "0: google? \n",
        "    T -> 3: 21? \n",
        "        T -> {'Premium': 3}\n",
        "        F -> 2: yes? \n",
        "            T -> {'Basic': 1}\n",
        "            F -> {'None': 1}\n",
        "    F -> 0: slashdot? \n",
        "        T -> {'None': 3}\n",
        "        F -> 2: yes? \n",
        "            T -> {'Basic': 4}\n",
        "            F -> 3: 21? \n",
        "                T -> {'Basic': 1}\n",
        "                F -> {'None': 3}\n"
       ]
      }
     ],
     "prompt_number": 28
    },
    {
     "cell_type": "code",
     "collapsed": false,
     "input": [],
     "language": "python",
     "metadata": {},
     "outputs": []
    }
   ],
   "metadata": {}
  }
 ]
}