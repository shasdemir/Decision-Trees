{
 "metadata": {
  "name": "",
  "signature": "sha256:e8da0285290df92210dc44cde0d68993f501e7db3d49793e2d02471d4d607eaa"
 },
 "nbformat": 3,
 "nbformat_minor": 0,
 "worksheets": [
  {
   "cells": [
    {
     "cell_type": "code",
     "collapsed": false,
     "input": [
      "import treepredict"
     ],
     "language": "python",
     "metadata": {},
     "outputs": [],
     "prompt_number": 1
    },
    {
     "cell_type": "code",
     "collapsed": false,
     "input": [
      "treepredict.divide_set(treepredict.my_data, 2, 'yes')"
     ],
     "language": "python",
     "metadata": {},
     "outputs": [
      {
       "metadata": {},
       "output_type": "pyout",
       "prompt_number": 2,
       "text": [
        "([['slashdot', 'USA', 'yes', 18, 'None'],\n",
        "  ['google', 'France', 'yes', 23, 'Premium'],\n",
        "  ['digg', 'USA', 'yes', 24, 'Basic'],\n",
        "  ['kiwitobes', 'France', 'yes', 23, 'Basic'],\n",
        "  ['slashdot', 'France', 'yes', 19, 'None'],\n",
        "  ['digg', 'New Zealand', 'yes', 12, 'Basic'],\n",
        "  ['google', 'UK', 'yes', 18, 'Basic'],\n",
        "  ['kiwitobes', 'France', 'yes', 19, 'Basic']],\n",
        " [['google', 'UK', 'no', 21, 'Premium'],\n",
        "  ['(direct)', 'New Zealand', 'no', 12, 'None'],\n",
        "  ['(direct)', 'UK', 'no', 21, 'Basic'],\n",
        "  ['google', 'USA', 'no', 24, 'Premium'],\n",
        "  ['digg', 'USA', 'no', 18, 'None'],\n",
        "  ['google', 'UK', 'no', 18, 'None'],\n",
        "  ['kiwitobes', 'UK', 'no', 19, 'None'],\n",
        "  ['slashdot', 'UK', 'no', 21, 'None']])"
       ]
      }
     ],
     "prompt_number": 2
    },
    {
     "cell_type": "code",
     "collapsed": false,
     "input": [],
     "language": "python",
     "metadata": {},
     "outputs": []
    }
   ],
   "metadata": {}
  }
 ]
}