{
 "metadata": {
  "name": "",
  "signature": "sha256:7e5113b6185d65a146143815e87e07a067340e4576f5fd6369908d6b63349f76"
 },
 "nbformat": 3,
 "nbformat_minor": 0,
 "worksheets": [
  {
   "cells": [
    {
     "cell_type": "code",
     "collapsed": false,
     "input": [
      "import treepredict"
     ],
     "language": "python",
     "metadata": {},
     "outputs": [],
     "prompt_number": 1
    },
    {
     "cell_type": "code",
     "collapsed": false,
     "input": [
      "treepredict.divide_set(treepredict.my_data, 2, 'yes')"
     ],
     "language": "python",
     "metadata": {},
     "outputs": [
      {
       "metadata": {},
       "output_type": "pyout",
       "prompt_number": 2,
       "text": [
        "([['slashdot', 'USA', 'yes', 18, 'None'],\n",
        "  ['google', 'France', 'yes', 23, 'Premium'],\n",
        "  ['digg', 'USA', 'yes', 24, 'Basic'],\n",
        "  ['kiwitobes', 'France', 'yes', 23, 'Basic'],\n",
        "  ['slashdot', 'France', 'yes', 19, 'None'],\n",
        "  ['digg', 'New Zealand', 'yes', 12, 'Basic'],\n",
        "  ['google', 'UK', 'yes', 18, 'Basic'],\n",
        "  ['kiwitobes', 'France', 'yes', 19, 'Basic']],\n",
        " [['google', 'UK', 'no', 21, 'Premium'],\n",
        "  ['(direct)', 'New Zealand', 'no', 12, 'None'],\n",
        "  ['(direct)', 'UK', 'no', 21, 'Basic'],\n",
        "  ['google', 'USA', 'no', 24, 'Premium'],\n",
        "  ['digg', 'USA', 'no', 18, 'None'],\n",
        "  ['google', 'UK', 'no', 18, 'None'],\n",
        "  ['kiwitobes', 'UK', 'no', 19, 'None'],\n",
        "  ['slashdot', 'UK', 'no', 21, 'None']])"
       ]
      }
     ],
     "prompt_number": 2
    },
    {
     "cell_type": "code",
     "collapsed": false,
     "input": [
      "reload(treepredict)"
     ],
     "language": "python",
     "metadata": {},
     "outputs": [
      {
       "metadata": {},
       "output_type": "pyout",
       "prompt_number": 9,
       "text": [
        "<module 'treepredict' from 'treepredict.py'>"
       ]
      }
     ],
     "prompt_number": 9
    },
    {
     "cell_type": "code",
     "collapsed": false,
     "input": [
      "treepredict.gini_impurity(treepredict.my_data)"
     ],
     "language": "python",
     "metadata": {},
     "outputs": [
      {
       "metadata": {},
       "output_type": "pyout",
       "prompt_number": 10,
       "text": [
        "0.6328125"
       ]
      }
     ],
     "prompt_number": 10
    },
    {
     "cell_type": "code",
     "collapsed": false,
     "input": [
      "treepredict.entropy(treepredict.my_data)"
     ],
     "language": "python",
     "metadata": {},
     "outputs": [
      {
       "metadata": {},
       "output_type": "pyout",
       "prompt_number": 11,
       "text": [
        "1.5052408149441479"
       ]
      }
     ],
     "prompt_number": 11
    },
    {
     "cell_type": "code",
     "collapsed": false,
     "input": [
      "set1, set2 = treepredict.divide_set(treepredict.my_data, 2, 'yes')"
     ],
     "language": "python",
     "metadata": {},
     "outputs": [],
     "prompt_number": 12
    },
    {
     "cell_type": "code",
     "collapsed": false,
     "input": [
      "treepredict.entropy(set1)"
     ],
     "language": "python",
     "metadata": {},
     "outputs": [
      {
       "metadata": {},
       "output_type": "pyout",
       "prompt_number": 13,
       "text": [
        "1.2987949406953985"
       ]
      }
     ],
     "prompt_number": 13
    },
    {
     "cell_type": "code",
     "collapsed": false,
     "input": [
      "treepredict.gini_impurity(set1)"
     ],
     "language": "python",
     "metadata": {},
     "outputs": [
      {
       "metadata": {},
       "output_type": "pyout",
       "prompt_number": 14,
       "text": [
        "0.53125"
       ]
      }
     ],
     "prompt_number": 14
    },
    {
     "cell_type": "code",
     "collapsed": false,
     "input": [],
     "language": "python",
     "metadata": {},
     "outputs": []
    }
   ],
   "metadata": {}
  }
 ]
}